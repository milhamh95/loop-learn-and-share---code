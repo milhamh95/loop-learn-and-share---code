{
  "nbformat": 4,
  "nbformat_minor": 0,
  "metadata": {
    "colab": {
      "provenance": [],
      "authorship_tag": "ABX9TyN5niqkvDU3f4DuqNUGwILF",
      "include_colab_link": true
    },
    "kernelspec": {
      "name": "python3",
      "display_name": "Python 3"
    },
    "language_info": {
      "name": "python"
    }
  },
  "cells": [
    {
      "cell_type": "markdown",
      "metadata": {
        "id": "view-in-github",
        "colab_type": "text"
      },
      "source": [
        "<a href=\"https://colab.research.google.com/github/milhamh95/loop-learn-and-share---code/blob/main/Set.ipynb\" target=\"_parent\"><img src=\"https://colab.research.google.com/assets/colab-badge.svg\" alt=\"Open In Colab\"/></a>"
      ]
    },
    {
      "cell_type": "markdown",
      "source": [
        "# Set\n",
        "\n",
        "Set is a collection of unique elements. It is unordered"
      ],
      "metadata": {
        "id": "6NxxlfDjfAcB"
      }
    },
    {
      "cell_type": "code",
      "source": [
        "import random\n",
        "\n",
        "numbers = [random.randint(1,100) for i in range(200)]\n",
        "print(numbers)"
      ],
      "metadata": {
        "colab": {
          "base_uri": "https://localhost:8080/"
        },
        "id": "IrM0fDKPfJE8",
        "outputId": "86a5952d-1cbd-4d48-a923-f8bbbb45cca2"
      },
      "execution_count": 4,
      "outputs": [
        {
          "output_type": "stream",
          "name": "stdout",
          "text": [
            "[16, 84, 64, 73, 90, 14, 6, 76, 32, 11, 67, 100, 51, 33, 20, 51, 22, 16, 6, 32, 79, 78, 47, 87, 89, 40, 42, 21, 78, 28, 8, 46, 55, 15, 86, 56, 18, 33, 99, 61, 93, 89, 16, 91, 14, 47, 20, 35, 10, 60, 38, 44, 10, 40, 26, 76, 64, 47, 93, 85, 41, 32, 85, 6, 48, 79, 70, 87, 30, 22, 86, 99, 11, 12, 20, 49, 53, 18, 22, 28, 47, 28, 11, 22, 57, 65, 85, 27, 7, 70, 41, 15, 89, 94, 7, 43, 46, 26, 1, 97, 11, 52, 57, 61, 46, 96, 52, 76, 61, 4, 21, 89, 49, 27, 71, 53, 94, 5, 9, 11, 8, 55, 43, 50, 84, 54, 6, 23, 46, 48, 41, 65, 8, 49, 78, 85, 88, 42, 40, 61, 30, 46, 93, 71, 42, 47, 33, 63, 59, 22, 96, 1, 57, 62, 68, 42, 26, 29, 14, 44, 32, 46, 36, 21, 40, 75, 100, 96, 26, 30, 22, 6, 90, 73, 46, 11, 24, 80, 18, 90, 48, 99, 40, 79, 21, 76, 27, 22, 14, 77, 90, 23, 28, 36, 82, 39, 83, 65, 79, 23]\n"
          ]
        }
      ]
    },
    {
      "cell_type": "markdown",
      "source": [],
      "metadata": {
        "id": "fNMKAeeIfekM"
      }
    }
  ]
}