{
  "nbformat": 4,
  "nbformat_minor": 0,
  "metadata": {
    "colab": {
      "provenance": [],
      "authorship_tag": "ABX9TyOW2nijw5aCmpTMqFaNgH7X",
      "include_colab_link": true
    },
    "kernelspec": {
      "name": "python3",
      "display_name": "Python 3"
    },
    "language_info": {
      "name": "python"
    }
  },
  "cells": [
    {
      "cell_type": "markdown",
      "metadata": {
        "id": "view-in-github",
        "colab_type": "text"
      },
      "source": [
        "<a href=\"https://colab.research.google.com/github/milhamh95/loop-learn-and-share---code/blob/main/Set.ipynb\" target=\"_parent\"><img src=\"https://colab.research.google.com/assets/colab-badge.svg\" alt=\"Open In Colab\"/></a>"
      ]
    },
    {
      "cell_type": "markdown",
      "source": [
        "# Set\n",
        "\n",
        "Set is a collection of unique elements. It is unordered"
      ],
      "metadata": {
        "id": "6NxxlfDjfAcB"
      }
    },
    {
      "cell_type": "markdown",
      "source": [
        "## Simplest way\n",
        "\n",
        "- Pseudocode:\n",
        "\n",
        "```\n",
        "set unique list\n",
        "Loop every element in array\n",
        "Check if element isn't exist in unique list\n",
        "  if true then insert element to unique list\n",
        "return unique list\n",
        "```"
      ],
      "metadata": {
        "id": "fNMKAeeIfekM"
      }
    },
    {
      "cell_type": "code",
      "source": [
        "def unique_elements(arr):\n",
        "  unique = []\n",
        "  for i in arr:\n",
        "    if i not in unique:\n",
        "      unique.append(i)\n",
        "  return unique\n",
        "\n",
        "print(unique_elements([1, 2, 3, 1, 2, 4, 5]))"
      ],
      "metadata": {
        "colab": {
          "base_uri": "https://localhost:8080/"
        },
        "id": "8hoV6s1sh2dG",
        "outputId": "2aca5457-47b5-43b8-f58a-0a39675422ed"
      },
      "execution_count": 8,
      "outputs": [
        {
          "output_type": "stream",
          "name": "stdout",
          "text": [
            "[1, 2, 3, 4, 5]\n"
          ]
        }
      ]
    }
  ]
}